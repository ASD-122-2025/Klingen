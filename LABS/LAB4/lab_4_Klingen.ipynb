{
 "cells": [
  {
   "cell_type": "markdown",
   "id": "6493595d-ff79-43c4-a83f-13005f53c4a4",
   "metadata": {},
   "source": [
    "---\n",
    "# Лабораторна робота №4.Рекурсія. Стратегія “розділяй і володарюй”.\n",
    "Author - Kyrylo Klingen\n",
    "---"
   ]
  },
  {
   "cell_type": "markdown",
   "id": "99644638-b8e2-4ab4-812f-17b99e051811",
   "metadata": {},
   "source": [
    "# Мета : Засвоїти технологію реалізації рекурсивних алгоритмів засобами Python і оцінку їх складності з використанням основної теореми рекурсії."
   ]
  },
  {
   "cell_type": "markdown",
   "id": "68cfc074-6fc8-462d-acdf-ed88aa951631",
   "metadata": {},
   "source": [
    "# 1 . Реалізувати процедуру обчислення факторіалу за допомогою цикла for. Оцінити асимптотичну складність алгоритму."
   ]
  },
  {
   "cell_type": "code",
   "execution_count": 1,
   "id": "232261b8-2dd4-4b01-8470-5da19215acbc",
   "metadata": {},
   "outputs": [],
   "source": [
    "def factorial(n):\n",
    "    result = 1\n",
    "    for i in range(2, n + 1):\n",
    "        result *= i\n",
    "    return result"
   ]
  },
  {
   "cell_type": "markdown",
   "id": "5a5c756f-8d1a-49dc-91ea-499ab553c829",
   "metadata": {},
   "source": [
    "Асимптотична складність данного алгоритму O(n).Якщо прописувати формулу то матимо такий результат T(n) = c2 + c3*n + c4*(n - 1) + c5\n",
    "     = (c3 + c4)*n + (c2 - c4 + c5).с відображує кожну строчку коду\n",
    "     \n"
   ]
  },
  {
   "cell_type": "markdown",
   "id": "2c83ea89-4554-4333-bc09-15b7089357f2",
   "metadata": {},
   "source": [
    "# 2 . Оцінити асимптотичну складність рекурсивного алгоритму обчислення факторіалу."
   ]
  },
  {
   "cell_type": "code",
   "execution_count": null,
   "id": "b7c74ae3-fcb3-4202-86c1-99d96bc2e8be",
   "metadata": {},
   "outputs": [],
   "source": [
    "def factorial(n):\n",
    "    if n == 0 or n == 1:\n",
    "        return 1\n",
    "    else:\n",
    "        return n * factorial(n - 1)"
   ]
  },
  {
   "cell_type": "markdown",
   "id": "cdafb570-9419-4c04-b80b-f89298c9a709",
   "metadata": {},
   "source": [
    "Асимптотична складність цього алгоритму дорівнює O(n) також її можна записати T(n)=d+(n−1)c=Θ(n).\n"
   ]
  },
  {
   "cell_type": "markdown",
   "id": "4b04a699-3da9-41cd-a826-3154ab1c3a63",
   "metadata": {},
   "source": [
    "# 3 . Оцінити асимптотичну складність рекурсивного алгоритму обчислення n-го числа Фібоначчі."
   ]
  },
  {
   "cell_type": "code",
   "execution_count": null,
   "id": "d739976b-f574-4fad-9143-83c94f39c42b",
   "metadata": {},
   "outputs": [],
   "source": [
    "def fibonacci(n):\n",
    "    \n",
    "    if n == 0:\n",
    "        return 0\n",
    "    if n in (1, 2):\n",
    "        return 1\n",
    "    return fibonacci(n - 1) + fibonacci(n - 2)"
   ]
  },
  {
   "cell_type": "markdown",
   "id": "704eaa23-307f-4015-842d-5bb33d11c8d2",
   "metadata": {},
   "source": [
    "Асимптотична складність данного алгоритму O(2^n).Також можна записати як T(n)=T(n−1)+T(n−2)+c=Θ(2^n)"
   ]
  },
  {
   "cell_type": "markdown",
   "id": "e928bcd0-147a-4b16-8662-129177d74164",
   "metadata": {},
   "source": [
    "# 4 . Оцінити асимптотичну складність алгоритму сортування злиттям, використовуючи основну теорему рекурсії."
   ]
  },
  {
   "cell_type": "code",
   "execution_count": null,
   "id": "f3db3ddc-fce8-40f0-806b-0a35708fb59e",
   "metadata": {},
   "outputs": [],
   "source": [
    "def merge(left, right):\n",
    "    \n",
    "    #Зливає два відсортованих масиви left і right у один\n",
    "    \n",
    "    result = []\n",
    "    i, j = 0, 0\n",
    "    while i < len(left) and j < len(right):\n",
    "        if left[i] <= right[j]:\n",
    "            result.append(left[i])\n",
    "            i += 1\n",
    "        else:\n",
    "            result.append(right[j])\n",
    "            j += 1\n",
    "    result += left[i:]\n",
    "    result += right[j:]\n",
    "    return result\n",
    "\n",
    "def mergesort(list):\n",
    "    \n",
    "    #Рекурсивна функція сортування з використанням попередньої функції\n",
    "    \n",
    "    if len(list) < 2:\n",
    "        return list\n",
    "    middle = len(list) // 2\n",
    "    left = mergesort(list[:middle])\n",
    "    right = mergesort(list[middle:])\n",
    "    return merge(left, right)"
   ]
  },
  {
   "cell_type": "markdown",
   "id": "7eca4e82-299d-4d46-9521-1dba5aa93fcb",
   "metadata": {},
   "source": [
    "Асимптотична складність данного алгоритму O(nlog(n)).Можемо записати\n",
    "T(n) = Θ(n * log n) = Θ(n log n)"
   ]
  },
  {
   "cell_type": "markdown",
   "id": "fa37b4d8-e1dd-4bd0-a5b1-18019d6f7e0b",
   "metadata": {},
   "source": [
    "# 5 . Контрольні питання"
   ]
  },
  {
   "cell_type": "markdown",
   "id": "3bf38943-573d-4958-aa8e-55b59ff4b7f3",
   "metadata": {},
   "source": [
    "* Дати визначення складності задачі з символом Ω - Ω-нотація вказує на найкращий можливий сценарій з точки зору асимптотичної складності алгоритму.\n",
    "* Функція часової складності має вигляд:  F(N) = N³ + 7N² - 14N . Як записати аисмптотичну складність в нотації O()? - O(N^3)\n",
    "* Функція часової складності має вигляд:  F(N) = F(N) = 1.01^N + N^10 . Як записати аисмптотичну складність в нотації O()? - O(1.01^N)\n",
    "* Функція часової складності має вигляд:  F(N) = N^13 + 10log₂N . Як записати аисмптотичну складність в нотації O()? - O(N^13)\n",
    "* У чому полягає ідея розпаралелювання обчислень і для чого вона використовується? Які з алгоритмів, наведених у цій лабораторній роботі, дозволяють розпаралелювання? - ідея полягає у декомпозиції задачі , а саме поділу задачі на менші підзадачі , алгоритм сортування злиттям дозволяє розпаралелювання.\n",
    "* Які існують шляхи підвищення обчислювальної швидкості алгоритмів? Який з них є найбільш ефективним? - Оптимізація коду , декомпозиція . Найбільш ефективним на мою думку є декомпозиція."
   ]
  },
  {
   "cell_type": "markdown",
   "id": "ee794234-48df-4547-9d5b-735c120f7182",
   "metadata": {},
   "source": [
    "# 6 . Висновки"
   ]
  },
  {
   "cell_type": "markdown",
   "id": "c5f2f69f-2e26-4064-8765-6ce194c24ff9",
   "metadata": {},
   "source": [
    "Засвоїли технологію реалізації рекурсивних алгоритмів засобами Python і оцінку їх складності з використанням основної теореми рекурсії "
   ]
  },
  {
   "cell_type": "code",
   "execution_count": null,
   "id": "776c8e54-8699-4043-b595-3d0f73a472bc",
   "metadata": {},
   "outputs": [],
   "source": []
  }
 ],
 "metadata": {
  "kernelspec": {
   "display_name": "Python 3 (ipykernel)",
   "language": "python",
   "name": "python3"
  },
  "language_info": {
   "codemirror_mode": {
    "name": "ipython",
    "version": 3
   },
   "file_extension": ".py",
   "mimetype": "text/x-python",
   "name": "python",
   "nbconvert_exporter": "python",
   "pygments_lexer": "ipython3",
   "version": "3.12.9"
  }
 },
 "nbformat": 4,
 "nbformat_minor": 5
}
