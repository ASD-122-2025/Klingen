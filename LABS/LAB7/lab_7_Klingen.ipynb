{
 "cells": [
  {
   "cell_type": "markdown",
   "id": "fb89f542-72be-452d-b4a6-2e106a458536",
   "metadata": {},
   "source": [
    "---\n",
    "# Лабораторна робота №7. Структури даних дерево, купа, геш-таблиця.\n",
    "Author - Kyrylo Klingen\n",
    "---"
   ]
  },
  {
   "cell_type": "markdown",
   "id": "9c01dd42-2069-4fa1-86cc-697f8548a67b",
   "metadata": {},
   "source": [
    "# Мета : засвоїти основні функції та алгоритми роботи з деревами та купою засобами Python."
   ]
  },
  {
   "cell_type": "markdown",
   "id": "f447f401-5476-4c76-8b7a-18d57af964bd",
   "metadata": {},
   "source": [
    "# 1 . Створити бінарне дерево згідно з варіантом, виданим викладачем.\n"
   ]
  },
  {
   "cell_type": "code",
   "execution_count": null,
   "id": "dfa1e828-41d3-4056-8727-6a2852a17a94",
   "metadata": {},
   "outputs": [],
   "source": [
    "myTree = [\n",
    "    'k',                  # root\n",
    "    ['m',                 # left subtree\n",
    "        ['n', [], []],    # left child of 'm'\n",
    "        []                # right child of 'm'\n",
    "    ],\n",
    "    ['p',                 # right subtree\n",
    "        ['q', [], []],    # left child of 'p'\n",
    "        ['r', [], []]     # right child of 'p'\n",
    "    ]\n",
    "]"
   ]
  },
  {
   "attachments": {
    "9fa95054-223e-4e2e-836d-154574e91c81.png": {
     "image/png": "[encoded data removed]"
    }
   },
   "cell_type": "markdown",
   "id": "6c37153b-749f-4385-874e-3657386a55ad",
   "metadata": {},
   "source": [
    "![Без имени.png](attachment:9fa95054-223e-4e2e-836d-154574e91c81.png)"
   ]
  },
  {
   "cell_type": "markdown",
   "id": "9ec23a43-a59f-4aec-9aab-e634fbf8f7a1",
   "metadata": {},
   "source": [
    "# 2 . Написати процедуру видалення заданої гілки дерева."
   ]
  },
  {
   "cell_type": "code",
   "execution_count": 2,
   "id": "7dedc3ca-1c8d-4fe0-af26-2fa67cd32f35",
   "metadata": {},
   "outputs": [],
   "source": [
    "def delete_branch(tree, target):\n",
    "    \n",
    "    if not tree or tree == []:\n",
    "        return tree\n",
    "\n",
    "    if tree[0] == target:\n",
    "        return [] \n",
    "\n",
    "    tree[1] = delete_branch(tree[1], target)\n",
    "    tree[2] = delete_branch(tree[2], target)\n",
    "\n",
    "    return tree"
   ]
  },
  {
   "cell_type": "markdown",
   "id": "c929b915-40f3-49b0-9264-8e6feab2456b",
   "metadata": {},
   "source": [
    "Приклад використання"
   ]
  },
  {
   "cell_type": "code",
   "execution_count": null,
   "id": "937c07bf-3434-4190-a3f5-387f52be4061",
   "metadata": {},
   "outputs": [],
   "source": [
    "print(\"До видалення:\")\n",
    "print(myTree)\n",
    "\n",
    "myTree = delete_branch(myTree, 'p')\n",
    "\n",
    "print(\"Після видалення гілки 'p':\")\n",
    "print(myTree)"
   ]
  },
  {
   "cell_type": "markdown",
   "id": "633f3496-02f7-45fd-9b9d-c127937f4735",
   "metadata": {},
   "source": [
    "# 3 . Оцінити асимптотичну складність (в середньому і в найгіршому випадку) процедур search, insert і delete роботи з деревом.\n"
   ]
  },
  {
   "cell_type": "markdown",
   "id": "2943a6c2-4753-4f24-8a10-5df86928ebc8",
   "metadata": {},
   "source": [
    "Search : Найгірший випадок - O(n) , ми проходимо кожну гілку що дійти до потрібної.Середній випадок - O(log n) , ми проходимо до середини (приблизно).\n",
    "\n",
    "Insert : Найгірший випадок - O(n) , ми проходимо кожну гілку щоб вставити у потрібну позицію.Середній випадок - O(log n) , ми проходимо до середини (приблизно) і вставляємо там.\n",
    "\n",
    "Delete : Найгірший випадок - O(n) , ми проходимо кожну гілку що дійти до потрібної та видалити її.Середній випадок - O(log n) , ми проходимо до середини (приблизно) і видаляємо потрібну гілку."
   ]
  },
  {
   "cell_type": "markdown",
   "id": "0db27f35-3f89-44c3-8556-3d564d8df4e8",
   "metadata": {},
   "source": [
    "# 4 . Написати процедуру генерації купи з будь-якого рандомного масива.\n"
   ]
  },
  {
   "cell_type": "code",
   "execution_count": null,
   "id": "1eafa17c-1bc8-4d46-882a-507c9fe09fed",
   "metadata": {},
   "outputs": [],
   "source": [
    "def heapify(arr, n, i):\n",
    "    largest = i        \n",
    "    left = 2 * i + 1   \n",
    "    right = 2 * i + 2  \n",
    "\n",
    "    if left < n and arr[left] > arr[largest]:\n",
    "        largest = left\n",
    "\n",
    "    if right < n and arr[right] > arr[largest]:\n",
    "        largest = right\n",
    "\n",
    "    if largest != i:\n",
    "        arr[i], arr[largest] = arr[largest], arr[i]  \n",
    "        heapify(arr, n, largest)\n",
    "\n",
    "def build_heap(arr):\n",
    "    n = len(arr)\n",
    "    for i in range(n // 2 - 1, -1, -1):\n",
    "        heapify(arr, n, i)\n",
    "    return arr"
   ]
  },
  {
   "cell_type": "markdown",
   "id": "c7d3a6e6-6e13-4d94-b58f-9c3c594c94c9",
   "metadata": {},
   "source": [
    "Приклад використання"
   ]
  },
  {
   "cell_type": "code",
   "execution_count": null,
   "id": "8bf160e5-2754-4802-a02e-5c1a20d9bb81",
   "metadata": {},
   "outputs": [],
   "source": [
    "import random\n",
    "\n",
    "arr = [random.randint(1, 100) for _ in range(10)]\n",
    "\n",
    "print(\"Початковий масив:\", arr)\n",
    "build_heap(arr)\n",
    "print(\"Макс-купа:\", arr)"
   ]
  },
  {
   "cell_type": "markdown",
   "id": "2047f12d-f85d-4db2-9d0e-97ded31fe221",
   "metadata": {},
   "source": [
    "# 5 . Додати до нього елемент, який дорівнює вашому порядковому номеру у списку групи."
   ]
  },
  {
   "cell_type": "code",
   "execution_count": null,
   "id": "56b6823a-5397-4021-baae-4e7c405ef571",
   "metadata": {},
   "outputs": [],
   "source": [
    "import random\n",
    "\n",
    "def heapify(arr, n, i):\n",
    "    largest = i\n",
    "    left = 2 * i + 1\n",
    "    right = 2 * i + 2\n",
    "\n",
    "    if left < n and arr[left] > arr[largest]:\n",
    "        largest = left\n",
    "    if right < n and arr[right] > arr[largest]:\n",
    "        largest = right\n",
    "    if largest != i:\n",
    "        arr[i], arr[largest] = arr[largest], arr[i]\n",
    "        heapify(arr, n, largest)\n",
    "\n",
    "def build_heap(arr):\n",
    "    n = len(arr)\n",
    "    for i in range(n // 2 - 1, -1, -1):\n",
    "        heapify(arr, n, i)\n",
    "    return arr\n",
    "\n",
    "def insert_to_heap(heap, value):\n",
    "    heap.append(value)\n",
    "    i = len(heap) - 1\n",
    "    parent = (i - 1) // 2\n",
    "    while i > 0 and heap[i] > heap[parent]:\n",
    "        heap[i], heap[parent] = heap[parent], heap[i]\n",
    "        i = parent\n",
    "        parent = (i - 1) // 2\n",
    "\n",
    "arr = [random.randint(1, 100) for _ in range(10)]\n",
    "print(\"Початковий масив:\", arr)\n",
    "\n",
    "build_heap(arr)\n",
    "print(\"Макс-купа:\", arr)\n",
    "\n",
    "insert_to_heap(arr, 8)\n",
    "print(\"Купа після вставки:\", arr)"
   ]
  },
  {
   "cell_type": "markdown",
   "id": "93a32656-3c32-4679-a788-49f199c210c5",
   "metadata": {},
   "source": [
    "# 6 . Вилучити максимальний елемент з купи."
   ]
  },
  {
   "cell_type": "code",
   "execution_count": null,
   "id": "7cbe9209-c27b-4240-9fc8-fe4c719379dc",
   "metadata": {},
   "outputs": [],
   "source": [
    "def delete_max(heap):\n",
    "    n = len(heap)\n",
    "    if n == 0:\n",
    "        return None  \n",
    "\n",
    "    max_element = heap[0]\n",
    "    heap[0] = heap[-1]     \n",
    "    heap.pop()             \n",
    "    heapify(heap, len(heap), 0)  \n",
    "    return max_element"
   ]
  },
  {
   "cell_type": "markdown",
   "id": "b134dec4-9ee3-4ae2-8600-32ab4445accb",
   "metadata": {},
   "source": [
    "Приклад використання"
   ]
  },
  {
   "cell_type": "code",
   "execution_count": null,
   "id": "337f1dba-2900-46ee-8114-70975820a37c",
   "metadata": {},
   "outputs": [],
   "source": [
    "removed = delete_max(arr)\n",
    "print(\"Видалено максимальний елемент:\", removed)\n",
    "print(\"Купа після видалення:\", arr)"
   ]
  },
  {
   "cell_type": "markdown",
   "id": "ba0e33bd-00a1-4f2a-be3d-2df6bb7a0a77",
   "metadata": {},
   "source": [
    "# 7 . Оцінити асимптотичну складність (у середньому і в найгіршому випадку) процедур search, insert і delete роботи з купою."
   ]
  },
  {
   "cell_type": "markdown",
   "id": "c526517f-35da-4320-98ea-2a4e276aaff3",
   "metadata": {},
   "source": [
    "Search : Найгірший випадок - O(n) , ми проходимо всю купу.Середній випадок - O(n) пошук вимагає перегляду всієї купи тому й у середньому випадку маємо лінійну складність.\n",
    "\n",
    "Insert : Найгірший випадок - O(log n) , ми вставляємо елемент в кінець купи після чого він сортується між іншими елементами.Середній випадок - O(log n) , аналогічно найгіршому випадку.\n",
    "\n",
    "Delete : Найгірший випадок - O(log n) , ми видаляємо елемент(зазвичай це корінь або мінімальне значення) після чого відбувається ссув і після цього сортування купи.Середній випадок - O(log n) , аналогічно найгіршому випадку."
   ]
  },
  {
   "cell_type": "markdown",
   "id": "b6df7636-6e4f-45ec-8ede-ccfe47d33b56",
   "metadata": {},
   "source": [
    "# 8 . Реалізуйте геш-таблицю з ланцюжковим гешуванням."
   ]
  },
  {
   "cell_type": "code",
   "execution_count": 6,
   "id": "849b7e3c-c74f-4da0-98a4-2df34150be7a",
   "metadata": {},
   "outputs": [],
   "source": [
    "class HashTable:\n",
    "    def __init__(self, size=10):\n",
    "        self.size = size\n",
    "        self.table = [[] for _ in range(self.size)]\n",
    "\n",
    "    def _hash(self, key):\n",
    "        return hash(key) % self.size\n",
    "\n",
    "    def insert(self, key, value):\n",
    "        index = self._hash(key)\n",
    "        bucket = self.table[index]\n",
    "\n",
    "        for i, (k, v) in enumerate(bucket):\n",
    "            if k == key:\n",
    "                bucket[i] = (key, value)  # оновлення\n",
    "                return\n",
    "        bucket.append((key, value))  # новий запис\n",
    "\n",
    "    def search(self, key):\n",
    "        index = self._hash(key)\n",
    "        bucket = self.table[index]\n",
    "\n",
    "        for k, v in bucket:\n",
    "            if k == key:\n",
    "                return v\n",
    "        return None  # не знайдено\n",
    "\n",
    "    def delete(self, key):\n",
    "        index = self._hash(key)\n",
    "        bucket = self.table[index]\n",
    "\n",
    "        for i, (k, v) in enumerate(bucket):\n",
    "            if k == key:\n",
    "                del bucket[i]\n",
    "                return True\n",
    "        return False  # не знайдено\n",
    "\n",
    "    def display(self):\n",
    "        for i, bucket in enumerate(self.table):\n",
    "            print(f\"{i}: {bucket}\")"
   ]
  },
  {
   "cell_type": "markdown",
   "id": "223cd866-d1a8-4185-9574-79368b78a0e9",
   "metadata": {},
   "source": [
    "Приклад використання"
   ]
  },
  {
   "cell_type": "code",
   "execution_count": null,
   "id": "1ec88f00-b238-4723-bbff-0f2b344fe1e3",
   "metadata": {},
   "outputs": [],
   "source": [
    "ht = HashTable(size=7)\n",
    "\n",
    "ht.insert(\"apple\", 10)\n",
    "ht.insert(\"banana\", 20)\n",
    "ht.insert(\"orange\", 30)\n",
    "ht.insert(\"grape\", 40)\n",
    "ht.insert(\"lemon\", 50)\n",
    "\n",
    "ht.display()\n",
    "\n",
    "print(\"Search 'banana':\", ht.search(\"banana\"))\n",
    "ht.delete(\"banana\")\n",
    "print(\"Search 'banana' після видалення:\", ht.search(\"banana\"))\n",
    "ht.display()"
   ]
  },
  {
   "cell_type": "markdown",
   "id": "46180842-561b-480a-abc5-206ab3a5cf9f",
   "metadata": {},
   "source": [
    "# 9 . Проведіть тестування геш-таблиці з різними типами даних (цілі числа, рядки, списки, словники, об’єкти)."
   ]
  },
  {
   "cell_type": "markdown",
   "id": "24b7f31f-9576-4901-a0a1-df631420d329",
   "metadata": {},
   "source": [
    "# 9.1 . Перевірити працездатність геш-таблиці з різними типами даних."
   ]
  },
  {
   "cell_type": "code",
   "execution_count": null,
   "id": "d37f44cb-12c6-4ce1-956c-a73d9ce03646",
   "metadata": {},
   "outputs": [],
   "source": [
    "ht = HashTable(size=10)\n",
    "\n",
    "ht.insert(1, \"один\")\n",
    "ht.insert(42, \"відповідь\")\n",
    "\n",
    "ht.insert(\"ключ\", \"значення\")\n",
    "ht.insert(\"hello\", 12345)\n",
    "\n",
    "ht.insert(\"list\", [1, 2, 3])\n",
    "ht.insert(\"dict\", {\"a\": 1, \"b\": 2})\n",
    "\n",
    "class Person:\n",
    "    def __init__(self, name):\n",
    "        self.name = name\n",
    "    def __repr__(self):\n",
    "        return f\"Person(name={self.name})\"\n",
    "\n",
    "person = Person(\"Андрій\")\n",
    "ht.insert(\"obj\", person)\n",
    "\n",
    "ht.display()\n",
    "\n",
    "print(\"Search 42:\", ht.search(42))\n",
    "print(\"Search 'hello':\", ht.search(\"hello\"))\n",
    "print(\"Search 'dict':\", ht.search(\"dict\"))\n",
    "print(\"Search 'obj':\", ht.search(\"obj\"))"
   ]
  },
  {
   "cell_type": "markdown",
   "id": "7f28d6dd-4c14-4957-b6b0-9e48d25e54f7",
   "metadata": {},
   "source": [
    "Геш-таблиця працює з усіма наведеними типами даних , але треба враховувати те , що для списків та словників ми використовували індекси як ключі, оскільки вони не можуть бути безпосередньо використані як ключі в геш-таблиці."
   ]
  },
  {
   "cell_type": "markdown",
   "id": "a87648f0-6c2f-4798-aa4b-8ba3beffedca",
   "metadata": {},
   "source": [
    "# 9.2 . Виміряти час виконання основних операцій (пошук, вставка, видалення) для різних типів даних."
   ]
  },
  {
   "cell_type": "code",
   "execution_count": 10,
   "id": "87e098fb-b9ff-41d1-91fb-75d7ef3caee7",
   "metadata": {},
   "outputs": [
    {
     "name": "stdout",
     "output_type": "stream",
     "text": [
      "Тестування з цілими числами:\n",
      "Вставка (цілі числа): 0.004965 сек\n",
      "Пошук (цілі числа): 0.004693 сек\n",
      "Видалення (цілі числа): 0.003293 сек\n",
      "\n",
      "Тестування з рядками:\n",
      "Вставка (рядки): 0.006160 сек\n",
      "Пошук (рядки): 0.009329 сек\n",
      "Видалення (рядки): 0.015834 сек\n",
      "\n",
      "Тестування зі списками:\n",
      "Вставка (списки): 0.011244 сек\n",
      "Пошук (списки): 0.005538 сек\n",
      "Видалення (списки): 0.003386 сек\n",
      "\n",
      "Тестування зі словниками:\n",
      "Вставка (словники): 0.008743 сек\n",
      "Пошук (словники): 0.005366 сек\n",
      "Видалення (словники): 0.003442 сек\n",
      "\n",
      "Тестування з об'єктами:\n",
      "Вставка (об'єкти): 0.005075 сек\n",
      "Пошук (об'єкти): 0.004936 сек\n",
      "Видалення (об'єкти): 0.003079 сек\n"
     ]
    }
   ],
   "source": [
    "import timeit\n",
    "import random\n",
    "\n",
    "def measure_hash_table_time(data, data_type_name):\n",
    "   \n",
    "    def insert_data():\n",
    "        hash_table = {}\n",
    "        for i, item in enumerate(data):\n",
    "            hash_table[i] = item\n",
    "        return hash_table\n",
    "\n",
    "    def search_data(hash_table):\n",
    "        for i in range(len(data)):\n",
    "            hash_table.get(i)\n",
    "\n",
    "    def delete_data(hash_table):\n",
    "        for i in range(len(data)):\n",
    "            hash_table.pop(i, None)\n",
    "\n",
    "    insert_time = timeit.timeit(insert_data, number=100)\n",
    "    print(f\"Вставка ({data_type_name}): {insert_time:.6f} сек\")\n",
    "\n",
    "    hash_table = insert_data() \n",
    "    search_time = timeit.timeit(lambda: search_data(hash_table), number=100)\n",
    "    print(f\"Пошук ({data_type_name}): {search_time:.6f} сек\")\n",
    "\n",
    "    delete_time = timeit.timeit(lambda: delete_data(hash_table), number=100)\n",
    "    print(f\"Видалення ({data_type_name}): {delete_time:.6f} сек\")\n",
    "\n",
    "data_int = list(range(1000))\n",
    "print(\"Тестування з цілими числами:\")\n",
    "measure_hash_table_time(data_int, \"цілі числа\")\n",
    "\n",
    "data_str = [str(i) for i in range(1000)]\n",
    "print(\"\\nТестування з рядками:\")\n",
    "measure_hash_table_time(data_str, \"рядки\")\n",
    "\n",
    "data_list = [[i] for i in range(1000)]\n",
    "print(\"\\nТестування зі списками:\")\n",
    "measure_hash_table_time(data_list, \"списки\")\n",
    "\n",
    "data_dict = [{str(i): i} for i in range(1000)]\n",
    "print(\"\\nТестування зі словниками:\")\n",
    "measure_hash_table_time(data_dict, \"словники\")\n",
    "\n",
    "class MyObject:\n",
    "    def __init__(self, value):\n",
    "        self.value = value\n",
    "\n",
    "    def __eq__(self, other):\n",
    "        return self.value == other.value\n",
    "\n",
    "data_obj = [MyObject(i) for i in range(1000)]\n",
    "print(\"\\nТестування з об'єктами:\")\n",
    "measure_hash_table_time(data_obj, \"об'єкти\")"
   ]
  },
  {
   "cell_type": "markdown",
   "id": "4a196d8b-6585-40c0-854f-6defe77e9a3d",
   "metadata": {},
   "source": [
    "# 9.3 . Порівняти результати для різних типів даних."
   ]
  },
  {
   "cell_type": "markdown",
   "id": "07a34da2-d39a-44e0-bcb0-4e8d11ed38ec",
   "metadata": {},
   "source": [
    "Цілі числа : Взагалом найшвидші (у списках швидкість може бути більша тому що там як ключ використовувалися також цілі числа,об'єкт використанний для тестування був простим тому він також дуже швидко був прохешований).\n",
    "\n",
    "Рядки : Трохи повільніші за цілі числа та більш складні для хешування та порівняння.\n",
    "\n",
    "Списки : Взагалом повільний.\n",
    "\n",
    "Словники : Аналогічна ситуація як у списків.\n",
    "\n",
    "Об'єкти : Тут залежить від складності об'єкта , в нас він простий тому він має велику швидкість.\n"
   ]
  },
  {
   "cell_type": "markdown",
   "id": "021b4bb9-af07-4db1-aa22-fe82da7054f3",
   "metadata": {},
   "source": [
    "# 10 . Контрольні питання.\n"
   ]
  },
  {
   "cell_type": "markdown",
   "id": "a963eb1c-8b00-45cb-abdd-0757e6bad237",
   "metadata": {},
   "source": [
    "* Чим відрізняється структура бінарне дерево він бінарного дерева пошуку? - Бінарне дерево - це ієрархічна структура даних, де кожен вузол має не більше двох дочірніх вузлів. Бінарне дерево пошуку - це бінарне дерево, в якому для кожного вузла всі ключі в лівому піддереві менші за ключ вузла, а всі ключі в правому піддереві більші.\n",
    "  \n",
    "* Чим відрізняється структура бінарне дерево від бінарної купи? - Бінарне дерево - це ієрархічна структура даних, де кожен вузол має не більше двох дочірніх вузлів, але порядок вузлів не має особливого значення. Бінарна купа - це специфічне бінарне дерево, яке задовольняє властивість купи: значення батьківського вузла завжди більше (або менше) значень його дочірніх вузлів, і воно, як правило, є повним або майже повним деревом.\n",
    "\n",
    "* Які існують типи дерев? Опишіть їхні основні характеристики та переваги. - 1.Бінарне дерево - Кожен вузол має не більше двох дочірніх вузлів (лівий і правий).Простий у реалізації та доволі швидкий.2.Бінарне дерево пошуку - Бінарне дерево, де для кожного вузла всі ключі в лівому піддереві менші за ключ вузла, а всі ключі в правому піддереві більші.Швидкий пошук, вставка та видалення в середньому випадку (O(log n)).3.Купа - Бінарне дерево, яке задовольняє властивість купи: значення батьківського вузла завжди більше (або менше) значень його дочірніх вузлів.Швидке отримання максимального або мінімального елемента (O(1)).4.Збалансовані дерева - Бінарні дерева пошуку, які підтримують баланс, щоб запобігти виродженню в зв'язаний список.Гарантований швидкий пошук, вставка та видалення (O(log n)).\n",
    "\n",
    "* Наведіть приклади задач, які ефективно вирішуються за допомогою дерев. - Пошук даних , сортування , ієрархічні структури даних , дерева рішень.\n",
    "\n",
    "* Як організована купа? Опишіть алгоритми додавання та вилучення елементів з купи. -  Купа організована таким чином, що корінь дерева містить найбільший (або найменший) елемент.Алгоритми додавання в купу : Додавання елемента в кінець купи , «просіювання вгору» - Порівняння з батьківським вузлом та заміна при порушенні властивостей.Алгоритми вилучення : Вилучення кореневого елемента - останній елемент купи переміщується на місце корневого , «просіювання вниз» - порівняння з дочірними вузлами та заміна при порушенні властивостей купи.\n",
    "\n",
    "* Які задачі можна ефективно вирішити за допомогою купи? Наведіть приклади. - Алгоритм Дейсктри , черги з пріорітетами , алгоритм сортування HeapSort.\n",
    "\n",
    "* Як геш-функція використовується для зберігання та пошуку даних в хеш-таблиці? - Ключі перетворюються на геш-код , який потім використовується для визначення індексу в масиві де зберігаються дані.Для пошуку за ключем хеш-функція знову обчислює хеш-код ключа та за ним шукає індекс у масиві де зберігаються дані та якщо воно там є то повертає дані.\n",
    "\n",
    "*Опишіть методи вирішення колізій в хеш-таблицях. Які їхні переваги та недоліки? - Метод ланцюгів - Кожна комірка хеш-таблиці містить покажчик на зв'язаний список (ланцюжок) елементів, які хешуються в цей індекс.Переваги : Простий , може обробляти велику кількість колізій.Недоліки : Може призвести до погіршення продуктивності, якщо ланцюжки стають довгими.Відкрита адресація - Всі елементи зберігаються безпосередньо в хеш-таблиці , при виникненні колізії шукається інша порожня комірка для вставки нового елемента.Переваги : Використовує менше пам'яті, ніж метод ланцюжків.Може бути швидшим, якщо хеш-таблиця не сильно заповнена.Недоліки : Може бути складнішим у реалізації.Продуктивність погіршується, якщо хеш-таблиця стає заповненою.Метод об'єднаного хешування - Розв'язує колізії за допомогою додаткових ланок між вузлами зв'язаних списків всередині таблиці.Переваги : Як і метод ланцюжків, не має кластерних ефектів.Геш-таблиця може бути ефективно заповнена.Недоліки : складна реалізація."
   ]
  },
  {
   "cell_type": "markdown",
   "id": "b3b3b6e6-397a-4b7b-9bd7-0f710d809dca",
   "metadata": {},
   "source": [
    "# 11 . Висновок."
   ]
  },
  {
   "cell_type": "markdown",
   "id": "1dc3863f-39df-4069-be44-20ff15ec7c03",
   "metadata": {},
   "source": [
    "На цій лабараторній роботі ми засвоїли основні функції та алгоритми роботи з деревами та купою засобами Python."
   ]
  },
  {
   "cell_type": "code",
   "execution_count": null,
   "id": "8677689e-e5d3-4079-a749-ad90f33ef100",
   "metadata": {},
   "outputs": [],
   "source": []
  }
 ],
 "metadata": {
  "kernelspec": {
   "display_name": "Python 3 (ipykernel)",
   "language": "python",
   "name": "python3"
  },
  "language_info": {
   "codemirror_mode": {
    "name": "ipython",
    "version": 3
   },
   "file_extension": ".py",
   "mimetype": "text/x-python",
   "name": "python",
   "nbconvert_exporter": "python",
   "pygments_lexer": "ipython3",
   "version": "3.12.9"
  }
 },
 "nbformat": 4,
 "nbformat_minor": 5
}
